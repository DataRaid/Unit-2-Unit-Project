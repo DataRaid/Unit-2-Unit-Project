{
 "cells": [
  {
   "cell_type": "code",
   "execution_count": 1,
   "id": "ongoing-dialogue",
   "metadata": {},
   "outputs": [],
   "source": [
    "#Data analysis and wrangling\n",
    "import pandas as pd\n",
    "import numpy as np\n",
    "import IPython\n",
    "#Visualization\n",
    "import matplotlib.pyplot as plt\n",
    "#encoders\n",
    "from category_encoders import OrdinalEncoder\n",
    "from sklearn.impute import SimpleImputer\n",
    "from sklearn.preprocessing import StandardScaler\n",
    "#Metrics\n",
    "from sklearn.metrics import accuracy_score, precision_score, recall_score, classification_report, roc_auc_score, plot_roc_curve,plot_confusion_matrix\n",
    "#pipeline\n",
    "from sklearn.pipeline import make_pipeline\n",
    "#machine learning\n",
    "from sklearn.ensemble import RandomForestClassifier\n",
    "from sklearn.tree import DecisionTreeClassifier"
   ]
  },
  {
   "cell_type": "code",
   "execution_count": 2,
   "id": "dress-trash",
   "metadata": {},
   "outputs": [],
   "source": [
    "path = 'olist_customers_dataset.csv'\n",
    "customer_df = pd.read_csv(path)\n"
   ]
  },
  {
   "cell_type": "code",
   "execution_count": 3,
   "id": "constitutional-uruguay",
   "metadata": {},
   "outputs": [],
   "source": [
    "#I ended not using this data frame for it's hcc columns\n",
    "def wrangle(customer_path):\n",
    "    customer_df = pd.read_csv(customer_path,\n",
    "                                  index_col='customer_id')\n",
    "    customer_df.drop(columns=['customer_unique_id', 'customer_state', 'customer_city'], inplace=True)\n",
    "    return customer_df\n",
    "        \n",
    "\n",
    "    \n",
    "    \n",
    "  \n",
    "     "
   ]
  },
  {
   "cell_type": "code",
   "execution_count": 4,
   "id": "shared-elite",
   "metadata": {},
   "outputs": [],
   "source": [
    "customer_df = wrangle(path)"
   ]
  },
  {
   "cell_type": "code",
   "execution_count": 5,
   "id": "ethical-estonia",
   "metadata": {
    "scrolled": true
   },
   "outputs": [
    {
     "data": {
      "text/html": [
       "<div>\n",
       "<style scoped>\n",
       "    .dataframe tbody tr th:only-of-type {\n",
       "        vertical-align: middle;\n",
       "    }\n",
       "\n",
       "    .dataframe tbody tr th {\n",
       "        vertical-align: top;\n",
       "    }\n",
       "\n",
       "    .dataframe thead th {\n",
       "        text-align: right;\n",
       "    }\n",
       "</style>\n",
       "<table border=\"1\" class=\"dataframe\">\n",
       "  <thead>\n",
       "    <tr style=\"text-align: right;\">\n",
       "      <th></th>\n",
       "      <th>customer_zip_code_prefix</th>\n",
       "    </tr>\n",
       "    <tr>\n",
       "      <th>customer_id</th>\n",
       "      <th></th>\n",
       "    </tr>\n",
       "  </thead>\n",
       "  <tbody>\n",
       "    <tr>\n",
       "      <th>06b8999e2fba1a1fbc88172c00ba8bc7</th>\n",
       "      <td>14409</td>\n",
       "    </tr>\n",
       "    <tr>\n",
       "      <th>18955e83d337fd6b2def6b18a428ac77</th>\n",
       "      <td>9790</td>\n",
       "    </tr>\n",
       "    <tr>\n",
       "      <th>4e7b3e00288586ebd08712fdd0374a03</th>\n",
       "      <td>1151</td>\n",
       "    </tr>\n",
       "    <tr>\n",
       "      <th>b2b6027bc5c5109e529d4dc6358b12c3</th>\n",
       "      <td>8775</td>\n",
       "    </tr>\n",
       "    <tr>\n",
       "      <th>4f2d8ab171c80ec8364f7c12e35b23ad</th>\n",
       "      <td>13056</td>\n",
       "    </tr>\n",
       "    <tr>\n",
       "      <th>...</th>\n",
       "      <td>...</td>\n",
       "    </tr>\n",
       "    <tr>\n",
       "      <th>17ddf5dd5d51696bb3d7c6291687be6f</th>\n",
       "      <td>3937</td>\n",
       "    </tr>\n",
       "    <tr>\n",
       "      <th>e7b71a9017aa05c9a7fd292d714858e8</th>\n",
       "      <td>6764</td>\n",
       "    </tr>\n",
       "    <tr>\n",
       "      <th>5e28dfe12db7fb50a4b2f691faecea5e</th>\n",
       "      <td>60115</td>\n",
       "    </tr>\n",
       "    <tr>\n",
       "      <th>56b18e2166679b8a959d72dd06da27f9</th>\n",
       "      <td>92120</td>\n",
       "    </tr>\n",
       "    <tr>\n",
       "      <th>274fa6071e5e17fe303b9748641082c8</th>\n",
       "      <td>6703</td>\n",
       "    </tr>\n",
       "  </tbody>\n",
       "</table>\n",
       "<p>99441 rows × 1 columns</p>\n",
       "</div>"
      ],
      "text/plain": [
       "                                  customer_zip_code_prefix\n",
       "customer_id                                               \n",
       "06b8999e2fba1a1fbc88172c00ba8bc7                     14409\n",
       "18955e83d337fd6b2def6b18a428ac77                      9790\n",
       "4e7b3e00288586ebd08712fdd0374a03                      1151\n",
       "b2b6027bc5c5109e529d4dc6358b12c3                      8775\n",
       "4f2d8ab171c80ec8364f7c12e35b23ad                     13056\n",
       "...                                                    ...\n",
       "17ddf5dd5d51696bb3d7c6291687be6f                      3937\n",
       "e7b71a9017aa05c9a7fd292d714858e8                      6764\n",
       "5e28dfe12db7fb50a4b2f691faecea5e                     60115\n",
       "56b18e2166679b8a959d72dd06da27f9                     92120\n",
       "274fa6071e5e17fe303b9748641082c8                      6703\n",
       "\n",
       "[99441 rows x 1 columns]"
      ]
     },
     "execution_count": 5,
     "metadata": {},
     "output_type": "execute_result"
    }
   ],
   "source": [
    "customer_df"
   ]
  },
  {
   "cell_type": "code",
   "execution_count": 6,
   "id": "meaning-struggle",
   "metadata": {
    "scrolled": true
   },
   "outputs": [],
   "source": [
    "#Analyzing the data frame\n",
    "#customer_df['customer_zip_code_prefix'].value_counts()"
   ]
  },
  {
   "cell_type": "code",
   "execution_count": 7,
   "id": "violent-manufacturer",
   "metadata": {},
   "outputs": [],
   "source": [
    "#Most frequent city where purchases are made\n",
    "#customer_df['customer_city'].value_counts(normalize=True)"
   ]
  },
  {
   "cell_type": "code",
   "execution_count": 8,
   "id": "smart-drawing",
   "metadata": {},
   "outputs": [],
   "source": [
    "#customer_df['customer_city'].nunique()"
   ]
  },
  {
   "cell_type": "code",
   "execution_count": 9,
   "id": "transparent-election",
   "metadata": {},
   "outputs": [],
   "source": [
    "#The target is payment_type, trimming the dataset to help merge the columns together.\n",
    "#Dropping customer_unique_id since it is not used to link other data.\n",
    "#customer_df.drop(columns=['customer_unique_id', 'customer_state', 'customer_city'], inplace=True)"
   ]
  },
  {
   "cell_type": "code",
   "execution_count": 10,
   "id": "vulnerable-settlement",
   "metadata": {},
   "outputs": [],
   "source": [
    "#customer_df.isnull().sum()"
   ]
  },
  {
   "cell_type": "code",
   "execution_count": 11,
   "id": "appropriate-leeds",
   "metadata": {},
   "outputs": [],
   "source": [
    "#geolocation_df = pd.read_csv('olist_geolocation_dataset.csv')#Not needed\n"
   ]
  },
  {
   "cell_type": "code",
   "execution_count": 12,
   "id": "furnished-superior",
   "metadata": {},
   "outputs": [],
   "source": [
    "# Third data set\n",
    "path_1 = 'olist_order_items_dataset.csv'\n",
    "order_products_df = pd.read_csv(path_1)"
   ]
  },
  {
   "cell_type": "code",
   "execution_count": 13,
   "id": "discrete-bullet",
   "metadata": {},
   "outputs": [],
   "source": [
    "# Trimming a Hcc column\n",
    "top_number_of_orders = order_products_df['order_item_id'].value_counts()[:5].index\n",
    "def top_5(order_quantity):\n",
    "         if order_quantity in top_number_of_orders:\n",
    "            return order_quantity\n",
    "         else:\n",
    "            return '>5' "
   ]
  },
  {
   "cell_type": "code",
   "execution_count": 14,
   "id": "hearing-potter",
   "metadata": {},
   "outputs": [],
   "source": [
    "#Applying cleaning to the data\n",
    "def wrangle_1(order_products_path):\n",
    "    order_products_df = pd.read_csv(path_1, index_col='product_id')\n",
    "    \n",
    "    \n",
    "    order_products_df['order_item_id'] = order_products_df['order_item_id'].apply(top_5)\n",
    "    order_products_df = order_products_df[order_products_df.order_item_id != '>5']\n",
    "    order_products_df.drop(columns=['order_item_id', 'seller_id', 'shipping_limit_date'], inplace=True)\n",
    "   \n",
    "    return order_products_df\n",
    "                        \n",
    "\n",
    "    \n",
    "\n"
   ]
  },
  {
   "cell_type": "code",
   "execution_count": 15,
   "id": "framed-reader",
   "metadata": {},
   "outputs": [],
   "source": [
    "order_products_df = wrangle_1(path_1)"
   ]
  },
  {
   "cell_type": "code",
   "execution_count": 16,
   "id": "nominated-burst",
   "metadata": {},
   "outputs": [],
   "source": [
    "#order_products_df.drop(columns=['order_item_id', 'seller_id', 'shipping_limit_date'], inplace=True)"
   ]
  },
  {
   "cell_type": "code",
   "execution_count": 17,
   "id": "european-warehouse",
   "metadata": {},
   "outputs": [
    {
     "data": {
      "text/html": [
       "<div>\n",
       "<style scoped>\n",
       "    .dataframe tbody tr th:only-of-type {\n",
       "        vertical-align: middle;\n",
       "    }\n",
       "\n",
       "    .dataframe tbody tr th {\n",
       "        vertical-align: top;\n",
       "    }\n",
       "\n",
       "    .dataframe thead th {\n",
       "        text-align: right;\n",
       "    }\n",
       "</style>\n",
       "<table border=\"1\" class=\"dataframe\">\n",
       "  <thead>\n",
       "    <tr style=\"text-align: right;\">\n",
       "      <th></th>\n",
       "      <th>order_id</th>\n",
       "      <th>price</th>\n",
       "      <th>freight_value</th>\n",
       "    </tr>\n",
       "    <tr>\n",
       "      <th>product_id</th>\n",
       "      <th></th>\n",
       "      <th></th>\n",
       "      <th></th>\n",
       "    </tr>\n",
       "  </thead>\n",
       "  <tbody>\n",
       "    <tr>\n",
       "      <th>4244733e06e7ecb4970a6e2683c13e61</th>\n",
       "      <td>00010242fe8c5a6d1ba2dd792cb16214</td>\n",
       "      <td>58.90</td>\n",
       "      <td>13.29</td>\n",
       "    </tr>\n",
       "    <tr>\n",
       "      <th>e5f2d52b802189ee658865ca93d83a8f</th>\n",
       "      <td>00018f77f2f0320c557190d7a144bdd3</td>\n",
       "      <td>239.90</td>\n",
       "      <td>19.93</td>\n",
       "    </tr>\n",
       "    <tr>\n",
       "      <th>c777355d18b72b67abbeef9df44fd0fd</th>\n",
       "      <td>000229ec398224ef6ca0657da4fc703e</td>\n",
       "      <td>199.00</td>\n",
       "      <td>17.87</td>\n",
       "    </tr>\n",
       "    <tr>\n",
       "      <th>7634da152a4610f1595efa32f14722fc</th>\n",
       "      <td>00024acbcdf0a6daa1e931b038114c75</td>\n",
       "      <td>12.99</td>\n",
       "      <td>12.79</td>\n",
       "    </tr>\n",
       "    <tr>\n",
       "      <th>ac6c3623068f30de03045865e4e10089</th>\n",
       "      <td>00042b26cf59d7ce69dfabb4e55b4fd9</td>\n",
       "      <td>199.90</td>\n",
       "      <td>18.14</td>\n",
       "    </tr>\n",
       "    <tr>\n",
       "      <th>...</th>\n",
       "      <td>...</td>\n",
       "      <td>...</td>\n",
       "      <td>...</td>\n",
       "    </tr>\n",
       "    <tr>\n",
       "      <th>4aa6014eceb682077f9dc4bffebc05b0</th>\n",
       "      <td>fffc94f6ce00a00581880bf54a75a037</td>\n",
       "      <td>299.99</td>\n",
       "      <td>43.41</td>\n",
       "    </tr>\n",
       "    <tr>\n",
       "      <th>32e07fd915822b0765e448c4dd74c828</th>\n",
       "      <td>fffcd46ef2263f404302a634eb57f7eb</td>\n",
       "      <td>350.00</td>\n",
       "      <td>36.53</td>\n",
       "    </tr>\n",
       "    <tr>\n",
       "      <th>72a30483855e2eafc67aee5dc2560482</th>\n",
       "      <td>fffce4705a9662cd70adb13d4a31832d</td>\n",
       "      <td>99.90</td>\n",
       "      <td>16.95</td>\n",
       "    </tr>\n",
       "    <tr>\n",
       "      <th>9c422a519119dcad7575db5af1ba540e</th>\n",
       "      <td>fffe18544ffabc95dfada21779c9644f</td>\n",
       "      <td>55.99</td>\n",
       "      <td>8.72</td>\n",
       "    </tr>\n",
       "    <tr>\n",
       "      <th>350688d9dc1e75ff97be326363655e01</th>\n",
       "      <td>fffe41c64501cc87c801fd61db3f6244</td>\n",
       "      <td>43.00</td>\n",
       "      <td>12.79</td>\n",
       "    </tr>\n",
       "  </tbody>\n",
       "</table>\n",
       "<p>112181 rows × 3 columns</p>\n",
       "</div>"
      ],
      "text/plain": [
       "                                                          order_id   price  \\\n",
       "product_id                                                                   \n",
       "4244733e06e7ecb4970a6e2683c13e61  00010242fe8c5a6d1ba2dd792cb16214   58.90   \n",
       "e5f2d52b802189ee658865ca93d83a8f  00018f77f2f0320c557190d7a144bdd3  239.90   \n",
       "c777355d18b72b67abbeef9df44fd0fd  000229ec398224ef6ca0657da4fc703e  199.00   \n",
       "7634da152a4610f1595efa32f14722fc  00024acbcdf0a6daa1e931b038114c75   12.99   \n",
       "ac6c3623068f30de03045865e4e10089  00042b26cf59d7ce69dfabb4e55b4fd9  199.90   \n",
       "...                                                            ...     ...   \n",
       "4aa6014eceb682077f9dc4bffebc05b0  fffc94f6ce00a00581880bf54a75a037  299.99   \n",
       "32e07fd915822b0765e448c4dd74c828  fffcd46ef2263f404302a634eb57f7eb  350.00   \n",
       "72a30483855e2eafc67aee5dc2560482  fffce4705a9662cd70adb13d4a31832d   99.90   \n",
       "9c422a519119dcad7575db5af1ba540e  fffe18544ffabc95dfada21779c9644f   55.99   \n",
       "350688d9dc1e75ff97be326363655e01  fffe41c64501cc87c801fd61db3f6244   43.00   \n",
       "\n",
       "                                  freight_value  \n",
       "product_id                                       \n",
       "4244733e06e7ecb4970a6e2683c13e61          13.29  \n",
       "e5f2d52b802189ee658865ca93d83a8f          19.93  \n",
       "c777355d18b72b67abbeef9df44fd0fd          17.87  \n",
       "7634da152a4610f1595efa32f14722fc          12.79  \n",
       "ac6c3623068f30de03045865e4e10089          18.14  \n",
       "...                                         ...  \n",
       "4aa6014eceb682077f9dc4bffebc05b0          43.41  \n",
       "32e07fd915822b0765e448c4dd74c828          36.53  \n",
       "72a30483855e2eafc67aee5dc2560482          16.95  \n",
       "9c422a519119dcad7575db5af1ba540e           8.72  \n",
       "350688d9dc1e75ff97be326363655e01          12.79  \n",
       "\n",
       "[112181 rows x 3 columns]"
      ]
     },
     "execution_count": 17,
     "metadata": {},
     "output_type": "execute_result"
    }
   ],
   "source": [
    "order_products_df"
   ]
  },
  {
   "cell_type": "code",
   "execution_count": 18,
   "id": "popular-stable",
   "metadata": {
    "scrolled": true
   },
   "outputs": [],
   "source": [
    "#Frequency of number of items ordered\n",
    "#order_products_df['order_item_id'].value_counts()"
   ]
  },
  {
   "cell_type": "code",
   "execution_count": 19,
   "id": "bizarre-pollution",
   "metadata": {},
   "outputs": [],
   "source": [
    "#top_number_of_orders = order_products_df['order_item_id'].value_counts()[:5].index\n",
    "#top_number_of_orders"
   ]
  },
  {
   "cell_type": "code",
   "execution_count": 20,
   "id": "grand-gallery",
   "metadata": {},
   "outputs": [],
   "source": [
    "# #def top_5(order_quantity):\n",
    "#     if order_quantity in top_number_of_orders:\n",
    "#         return order_quantity\n",
    "#     else:\n",
    "#         return '>5' \n",
    "    "
   ]
  },
  {
   "cell_type": "code",
   "execution_count": 21,
   "id": "muslim-calvin",
   "metadata": {},
   "outputs": [],
   "source": [
    "#order_products_df['order_item_id'] = order_products_df['order_item_id'].apply(top_5)"
   ]
  },
  {
   "cell_type": "code",
   "execution_count": 22,
   "id": "allied-french",
   "metadata": {},
   "outputs": [],
   "source": [
    "#Getting rid of rows with >5 number of products ordered\n",
    "#order_products_df = order_products_df[order_products_df.order_item_id != '>5']\n"
   ]
  },
  {
   "cell_type": "code",
   "execution_count": 23,
   "id": "surrounded-queens",
   "metadata": {
    "scrolled": true
   },
   "outputs": [],
   "source": [
    "#order_products_df.drop('seller_id', axis=1, inplace=True)\n",
    "#order_products_df.isnull().sum()"
   ]
  },
  {
   "cell_type": "code",
   "execution_count": 24,
   "id": "specified-ranch",
   "metadata": {},
   "outputs": [],
   "source": [
    "#Fourth dataset\n",
    "path_2 = 'olist_order_payments_dataset.csv'\n",
    "order_payments_df = pd.read_csv(path_2)"
   ]
  },
  {
   "cell_type": "code",
   "execution_count": 25,
   "id": "substantial-grocery",
   "metadata": {},
   "outputs": [],
   "source": [
    "#Trimming the target column with less hhc values\n",
    "top_3_payments = order_payments_df['payment_type'].value_counts()[:3].index\n",
    "def top_3(three_payments):\n",
    "    if three_payments in top_3_payments:\n",
    "        return three_payments\n",
    "    else:\n",
    "        return 'other'\n"
   ]
  },
  {
   "cell_type": "code",
   "execution_count": 26,
   "id": "about-agency",
   "metadata": {},
   "outputs": [],
   "source": [
    "#Applying data cleaning to the data frame\n",
    "def wrangle_2(order_payments):\n",
    "    order_payments_df = pd.read_csv(path_2, index_col='order_id')\n",
    "    order_payments_df.drop(['payment_sequential'], axis=1, inplace=True)\n",
    "    order_payments_df['payment_type'] =  order_payments_df['payment_type'].apply(top_3)\n",
    "    order_payments_df =  order_payments_df[order_payments_df.payment_type != 'other']\n",
    "    return order_payments_df"
   ]
  },
  {
   "cell_type": "code",
   "execution_count": 27,
   "id": "comfortable-disabled",
   "metadata": {},
   "outputs": [],
   "source": [
    "order_payments_df = wrangle_2(path_2)"
   ]
  },
  {
   "cell_type": "code",
   "execution_count": 28,
   "id": "empirical-binary",
   "metadata": {},
   "outputs": [
    {
     "data": {
      "text/html": [
       "<div>\n",
       "<style scoped>\n",
       "    .dataframe tbody tr th:only-of-type {\n",
       "        vertical-align: middle;\n",
       "    }\n",
       "\n",
       "    .dataframe tbody tr th {\n",
       "        vertical-align: top;\n",
       "    }\n",
       "\n",
       "    .dataframe thead th {\n",
       "        text-align: right;\n",
       "    }\n",
       "</style>\n",
       "<table border=\"1\" class=\"dataframe\">\n",
       "  <thead>\n",
       "    <tr style=\"text-align: right;\">\n",
       "      <th></th>\n",
       "      <th>payment_type</th>\n",
       "      <th>payment_installments</th>\n",
       "      <th>payment_value</th>\n",
       "    </tr>\n",
       "    <tr>\n",
       "      <th>order_id</th>\n",
       "      <th></th>\n",
       "      <th></th>\n",
       "      <th></th>\n",
       "    </tr>\n",
       "  </thead>\n",
       "  <tbody>\n",
       "    <tr>\n",
       "      <th>b81ef226f3fe1789b1e8b2acac839d17</th>\n",
       "      <td>credit_card</td>\n",
       "      <td>8</td>\n",
       "      <td>99.33</td>\n",
       "    </tr>\n",
       "    <tr>\n",
       "      <th>a9810da82917af2d9aefd1278f1dcfa0</th>\n",
       "      <td>credit_card</td>\n",
       "      <td>1</td>\n",
       "      <td>24.39</td>\n",
       "    </tr>\n",
       "    <tr>\n",
       "      <th>25e8ea4e93396b6fa0d3dd708e76c1bd</th>\n",
       "      <td>credit_card</td>\n",
       "      <td>1</td>\n",
       "      <td>65.71</td>\n",
       "    </tr>\n",
       "    <tr>\n",
       "      <th>ba78997921bbcdc1373bb41e913ab953</th>\n",
       "      <td>credit_card</td>\n",
       "      <td>8</td>\n",
       "      <td>107.78</td>\n",
       "    </tr>\n",
       "    <tr>\n",
       "      <th>42fdf880ba16b47b59251dd489d4441a</th>\n",
       "      <td>credit_card</td>\n",
       "      <td>2</td>\n",
       "      <td>128.45</td>\n",
       "    </tr>\n",
       "    <tr>\n",
       "      <th>...</th>\n",
       "      <td>...</td>\n",
       "      <td>...</td>\n",
       "      <td>...</td>\n",
       "    </tr>\n",
       "    <tr>\n",
       "      <th>0406037ad97740d563a178ecc7a2075c</th>\n",
       "      <td>boleto</td>\n",
       "      <td>1</td>\n",
       "      <td>363.31</td>\n",
       "    </tr>\n",
       "    <tr>\n",
       "      <th>7b905861d7c825891d6347454ea7863f</th>\n",
       "      <td>credit_card</td>\n",
       "      <td>2</td>\n",
       "      <td>96.80</td>\n",
       "    </tr>\n",
       "    <tr>\n",
       "      <th>32609bbb3dd69b3c066a6860554a77bf</th>\n",
       "      <td>credit_card</td>\n",
       "      <td>1</td>\n",
       "      <td>47.77</td>\n",
       "    </tr>\n",
       "    <tr>\n",
       "      <th>b8b61059626efa996a60be9bb9320e10</th>\n",
       "      <td>credit_card</td>\n",
       "      <td>5</td>\n",
       "      <td>369.54</td>\n",
       "    </tr>\n",
       "    <tr>\n",
       "      <th>28bbae6599b09d39ca406b747b6632b1</th>\n",
       "      <td>boleto</td>\n",
       "      <td>1</td>\n",
       "      <td>191.58</td>\n",
       "    </tr>\n",
       "  </tbody>\n",
       "</table>\n",
       "<p>102354 rows × 3 columns</p>\n",
       "</div>"
      ],
      "text/plain": [
       "                                 payment_type  payment_installments  \\\n",
       "order_id                                                              \n",
       "b81ef226f3fe1789b1e8b2acac839d17  credit_card                     8   \n",
       "a9810da82917af2d9aefd1278f1dcfa0  credit_card                     1   \n",
       "25e8ea4e93396b6fa0d3dd708e76c1bd  credit_card                     1   \n",
       "ba78997921bbcdc1373bb41e913ab953  credit_card                     8   \n",
       "42fdf880ba16b47b59251dd489d4441a  credit_card                     2   \n",
       "...                                       ...                   ...   \n",
       "0406037ad97740d563a178ecc7a2075c       boleto                     1   \n",
       "7b905861d7c825891d6347454ea7863f  credit_card                     2   \n",
       "32609bbb3dd69b3c066a6860554a77bf  credit_card                     1   \n",
       "b8b61059626efa996a60be9bb9320e10  credit_card                     5   \n",
       "28bbae6599b09d39ca406b747b6632b1       boleto                     1   \n",
       "\n",
       "                                  payment_value  \n",
       "order_id                                         \n",
       "b81ef226f3fe1789b1e8b2acac839d17          99.33  \n",
       "a9810da82917af2d9aefd1278f1dcfa0          24.39  \n",
       "25e8ea4e93396b6fa0d3dd708e76c1bd          65.71  \n",
       "ba78997921bbcdc1373bb41e913ab953         107.78  \n",
       "42fdf880ba16b47b59251dd489d4441a         128.45  \n",
       "...                                         ...  \n",
       "0406037ad97740d563a178ecc7a2075c         363.31  \n",
       "7b905861d7c825891d6347454ea7863f          96.80  \n",
       "32609bbb3dd69b3c066a6860554a77bf          47.77  \n",
       "b8b61059626efa996a60be9bb9320e10         369.54  \n",
       "28bbae6599b09d39ca406b747b6632b1         191.58  \n",
       "\n",
       "[102354 rows x 3 columns]"
      ]
     },
     "execution_count": 28,
     "metadata": {},
     "output_type": "execute_result"
    }
   ],
   "source": [
    "order_payments_df"
   ]
  },
  {
   "cell_type": "code",
   "execution_count": 29,
   "id": "satisfactory-holly",
   "metadata": {},
   "outputs": [],
   "source": [
    "#order_payments_df.drop(['payment_sequential'], axis=1, inplace=True)"
   ]
  },
  {
   "cell_type": "code",
   "execution_count": 30,
   "id": "smooth-performance",
   "metadata": {},
   "outputs": [
    {
     "data": {
      "text/plain": [
       "1     51014\n",
       "2     12413\n",
       "3     10461\n",
       "4      7098\n",
       "10     5328\n",
       "5      5239\n",
       "8      4268\n",
       "6      3920\n",
       "7      1626\n",
       "9       644\n",
       "12      133\n",
       "15       74\n",
       "18       27\n",
       "11       23\n",
       "24       18\n",
       "20       17\n",
       "13       16\n",
       "14       15\n",
       "17        8\n",
       "16        5\n",
       "21        3\n",
       "0         2\n",
       "22        1\n",
       "23        1\n",
       "Name: payment_installments, dtype: int64"
      ]
     },
     "execution_count": 30,
     "metadata": {},
     "output_type": "execute_result"
    }
   ],
   "source": [
    "order_payments_df['payment_installments'].value_counts()"
   ]
  },
  {
   "cell_type": "code",
   "execution_count": 31,
   "id": "painted-concentration",
   "metadata": {
    "scrolled": true
   },
   "outputs": [
    {
     "data": {
      "text/plain": [
       "credit_card    0.750288\n",
       "boleto         0.193290\n",
       "voucher        0.056422\n",
       "Name: payment_type, dtype: float64"
      ]
     },
     "execution_count": 31,
     "metadata": {},
     "output_type": "execute_result"
    }
   ],
   "source": [
    "order_payments_df['payment_type'].value_counts(normalize=True)\n"
   ]
  },
  {
   "cell_type": "code",
   "execution_count": 32,
   "id": "fixed-usage",
   "metadata": {},
   "outputs": [],
   "source": [
    "# top_3_payments = order_payments_df['payment_type'].value_counts()[:3].index\n",
    "# top_3_payments"
   ]
  },
  {
   "cell_type": "code",
   "execution_count": 33,
   "id": "dirty-deposit",
   "metadata": {},
   "outputs": [],
   "source": [
    "\n",
    "# def top_3(three_payments):\n",
    "#     if three_payments in top_3_payments:\n",
    "#         return three_payments\n",
    "#     else:\n",
    "#         return 'other'\n"
   ]
  },
  {
   "cell_type": "code",
   "execution_count": 34,
   "id": "tropical-empty",
   "metadata": {},
   "outputs": [],
   "source": [
    " #order_payments_df['payment_type'] =  order_payments_df['payment_type'].apply(top_3)"
   ]
  },
  {
   "cell_type": "code",
   "execution_count": 35,
   "id": "traditional-forwarding",
   "metadata": {},
   "outputs": [],
   "source": [
    "# order_payments_df =  order_payments_df[order_payments_df.payment_type != 'other']\n",
    "    "
   ]
  },
  {
   "cell_type": "code",
   "execution_count": 36,
   "id": "constant-choir",
   "metadata": {},
   "outputs": [],
   "source": [
    "#order_reviews_df = pd.read_csv('olist_order_reviews_dataset.csv') #not needed"
   ]
  },
  {
   "cell_type": "code",
   "execution_count": 37,
   "id": "intellectual-street",
   "metadata": {},
   "outputs": [],
   "source": [
    "#orders_dataset_df = pd.read_csv('olist_orders_dataset.csv')"
   ]
  },
  {
   "cell_type": "code",
   "execution_count": 38,
   "id": "awful-cleaner",
   "metadata": {},
   "outputs": [],
   "source": [
    "#orders_dataset_df #Not needed"
   ]
  },
  {
   "cell_type": "code",
   "execution_count": 39,
   "id": "colonial-calculator",
   "metadata": {},
   "outputs": [],
   "source": [
    "path_3 = 'olist_products_dataset.csv'\n",
    "products_dataset = pd.read_csv(path_3)"
   ]
  },
  {
   "cell_type": "code",
   "execution_count": 40,
   "id": "addressed-runner",
   "metadata": {},
   "outputs": [],
   "source": [
    "## Trimming a Hcc column\n",
    "top_14_categories = products_dataset['product_category_name'].value_counts()[:14].index\n",
    "def other(top):\n",
    "    if top in top_14_categories:\n",
    "        return top\n",
    "    else:\n",
    "        return 'other'"
   ]
  },
  {
   "cell_type": "code",
   "execution_count": 41,
   "id": "massive-adrian",
   "metadata": {},
   "outputs": [],
   "source": [
    "#Applying data cleaning to the data frame\n",
    "def wrangle_3(products_data):\n",
    "    products_dataset = pd.read_csv(path_3, index_col='product_id')\n",
    "    products_dataset.drop(columns=['product_name_lenght', 'product_description_lenght', 'product_photos_qty', \n",
    "                                   'product_weight_g', 'product_length_cm', 'product_height_cm', 'product_width_cm'],inplace=True)\n",
    "    products_dataset['product_category_name'] = products_dataset['product_category_name'].apply(other)\n",
    "    return products_dataset\n",
    "    "
   ]
  },
  {
   "cell_type": "code",
   "execution_count": 42,
   "id": "colonial-thirty",
   "metadata": {
    "scrolled": true
   },
   "outputs": [
    {
     "data": {
      "text/html": [
       "<div>\n",
       "<style scoped>\n",
       "    .dataframe tbody tr th:only-of-type {\n",
       "        vertical-align: middle;\n",
       "    }\n",
       "\n",
       "    .dataframe tbody tr th {\n",
       "        vertical-align: top;\n",
       "    }\n",
       "\n",
       "    .dataframe thead th {\n",
       "        text-align: right;\n",
       "    }\n",
       "</style>\n",
       "<table border=\"1\" class=\"dataframe\">\n",
       "  <thead>\n",
       "    <tr style=\"text-align: right;\">\n",
       "      <th></th>\n",
       "      <th>product_id</th>\n",
       "      <th>product_category_name</th>\n",
       "      <th>product_name_lenght</th>\n",
       "      <th>product_description_lenght</th>\n",
       "      <th>product_photos_qty</th>\n",
       "      <th>product_weight_g</th>\n",
       "      <th>product_length_cm</th>\n",
       "      <th>product_height_cm</th>\n",
       "      <th>product_width_cm</th>\n",
       "    </tr>\n",
       "  </thead>\n",
       "  <tbody>\n",
       "    <tr>\n",
       "      <th>0</th>\n",
       "      <td>1e9e8ef04dbcff4541ed26657ea517e5</td>\n",
       "      <td>perfumaria</td>\n",
       "      <td>40.0</td>\n",
       "      <td>287.0</td>\n",
       "      <td>1.0</td>\n",
       "      <td>225.0</td>\n",
       "      <td>16.0</td>\n",
       "      <td>10.0</td>\n",
       "      <td>14.0</td>\n",
       "    </tr>\n",
       "    <tr>\n",
       "      <th>1</th>\n",
       "      <td>3aa071139cb16b67ca9e5dea641aaa2f</td>\n",
       "      <td>artes</td>\n",
       "      <td>44.0</td>\n",
       "      <td>276.0</td>\n",
       "      <td>1.0</td>\n",
       "      <td>1000.0</td>\n",
       "      <td>30.0</td>\n",
       "      <td>18.0</td>\n",
       "      <td>20.0</td>\n",
       "    </tr>\n",
       "    <tr>\n",
       "      <th>2</th>\n",
       "      <td>96bd76ec8810374ed1b65e291975717f</td>\n",
       "      <td>esporte_lazer</td>\n",
       "      <td>46.0</td>\n",
       "      <td>250.0</td>\n",
       "      <td>1.0</td>\n",
       "      <td>154.0</td>\n",
       "      <td>18.0</td>\n",
       "      <td>9.0</td>\n",
       "      <td>15.0</td>\n",
       "    </tr>\n",
       "    <tr>\n",
       "      <th>3</th>\n",
       "      <td>cef67bcfe19066a932b7673e239eb23d</td>\n",
       "      <td>bebes</td>\n",
       "      <td>27.0</td>\n",
       "      <td>261.0</td>\n",
       "      <td>1.0</td>\n",
       "      <td>371.0</td>\n",
       "      <td>26.0</td>\n",
       "      <td>4.0</td>\n",
       "      <td>26.0</td>\n",
       "    </tr>\n",
       "    <tr>\n",
       "      <th>4</th>\n",
       "      <td>9dc1a7de274444849c219cff195d0b71</td>\n",
       "      <td>utilidades_domesticas</td>\n",
       "      <td>37.0</td>\n",
       "      <td>402.0</td>\n",
       "      <td>4.0</td>\n",
       "      <td>625.0</td>\n",
       "      <td>20.0</td>\n",
       "      <td>17.0</td>\n",
       "      <td>13.0</td>\n",
       "    </tr>\n",
       "    <tr>\n",
       "      <th>...</th>\n",
       "      <td>...</td>\n",
       "      <td>...</td>\n",
       "      <td>...</td>\n",
       "      <td>...</td>\n",
       "      <td>...</td>\n",
       "      <td>...</td>\n",
       "      <td>...</td>\n",
       "      <td>...</td>\n",
       "      <td>...</td>\n",
       "    </tr>\n",
       "    <tr>\n",
       "      <th>32946</th>\n",
       "      <td>a0b7d5a992ccda646f2d34e418fff5a0</td>\n",
       "      <td>moveis_decoracao</td>\n",
       "      <td>45.0</td>\n",
       "      <td>67.0</td>\n",
       "      <td>2.0</td>\n",
       "      <td>12300.0</td>\n",
       "      <td>40.0</td>\n",
       "      <td>40.0</td>\n",
       "      <td>40.0</td>\n",
       "    </tr>\n",
       "    <tr>\n",
       "      <th>32947</th>\n",
       "      <td>bf4538d88321d0fd4412a93c974510e6</td>\n",
       "      <td>construcao_ferramentas_iluminacao</td>\n",
       "      <td>41.0</td>\n",
       "      <td>971.0</td>\n",
       "      <td>1.0</td>\n",
       "      <td>1700.0</td>\n",
       "      <td>16.0</td>\n",
       "      <td>19.0</td>\n",
       "      <td>16.0</td>\n",
       "    </tr>\n",
       "    <tr>\n",
       "      <th>32948</th>\n",
       "      <td>9a7c6041fa9592d9d9ef6cfe62a71f8c</td>\n",
       "      <td>cama_mesa_banho</td>\n",
       "      <td>50.0</td>\n",
       "      <td>799.0</td>\n",
       "      <td>1.0</td>\n",
       "      <td>1400.0</td>\n",
       "      <td>27.0</td>\n",
       "      <td>7.0</td>\n",
       "      <td>27.0</td>\n",
       "    </tr>\n",
       "    <tr>\n",
       "      <th>32949</th>\n",
       "      <td>83808703fc0706a22e264b9d75f04a2e</td>\n",
       "      <td>informatica_acessorios</td>\n",
       "      <td>60.0</td>\n",
       "      <td>156.0</td>\n",
       "      <td>2.0</td>\n",
       "      <td>700.0</td>\n",
       "      <td>31.0</td>\n",
       "      <td>13.0</td>\n",
       "      <td>20.0</td>\n",
       "    </tr>\n",
       "    <tr>\n",
       "      <th>32950</th>\n",
       "      <td>106392145fca363410d287a815be6de4</td>\n",
       "      <td>cama_mesa_banho</td>\n",
       "      <td>58.0</td>\n",
       "      <td>309.0</td>\n",
       "      <td>1.0</td>\n",
       "      <td>2083.0</td>\n",
       "      <td>12.0</td>\n",
       "      <td>2.0</td>\n",
       "      <td>7.0</td>\n",
       "    </tr>\n",
       "  </tbody>\n",
       "</table>\n",
       "<p>32951 rows × 9 columns</p>\n",
       "</div>"
      ],
      "text/plain": [
       "                             product_id              product_category_name  \\\n",
       "0      1e9e8ef04dbcff4541ed26657ea517e5                         perfumaria   \n",
       "1      3aa071139cb16b67ca9e5dea641aaa2f                              artes   \n",
       "2      96bd76ec8810374ed1b65e291975717f                      esporte_lazer   \n",
       "3      cef67bcfe19066a932b7673e239eb23d                              bebes   \n",
       "4      9dc1a7de274444849c219cff195d0b71              utilidades_domesticas   \n",
       "...                                 ...                                ...   \n",
       "32946  a0b7d5a992ccda646f2d34e418fff5a0                   moveis_decoracao   \n",
       "32947  bf4538d88321d0fd4412a93c974510e6  construcao_ferramentas_iluminacao   \n",
       "32948  9a7c6041fa9592d9d9ef6cfe62a71f8c                    cama_mesa_banho   \n",
       "32949  83808703fc0706a22e264b9d75f04a2e             informatica_acessorios   \n",
       "32950  106392145fca363410d287a815be6de4                    cama_mesa_banho   \n",
       "\n",
       "       product_name_lenght  product_description_lenght  product_photos_qty  \\\n",
       "0                     40.0                       287.0                 1.0   \n",
       "1                     44.0                       276.0                 1.0   \n",
       "2                     46.0                       250.0                 1.0   \n",
       "3                     27.0                       261.0                 1.0   \n",
       "4                     37.0                       402.0                 4.0   \n",
       "...                    ...                         ...                 ...   \n",
       "32946                 45.0                        67.0                 2.0   \n",
       "32947                 41.0                       971.0                 1.0   \n",
       "32948                 50.0                       799.0                 1.0   \n",
       "32949                 60.0                       156.0                 2.0   \n",
       "32950                 58.0                       309.0                 1.0   \n",
       "\n",
       "       product_weight_g  product_length_cm  product_height_cm  \\\n",
       "0                 225.0               16.0               10.0   \n",
       "1                1000.0               30.0               18.0   \n",
       "2                 154.0               18.0                9.0   \n",
       "3                 371.0               26.0                4.0   \n",
       "4                 625.0               20.0               17.0   \n",
       "...                 ...                ...                ...   \n",
       "32946           12300.0               40.0               40.0   \n",
       "32947            1700.0               16.0               19.0   \n",
       "32948            1400.0               27.0                7.0   \n",
       "32949             700.0               31.0               13.0   \n",
       "32950            2083.0               12.0                2.0   \n",
       "\n",
       "       product_width_cm  \n",
       "0                  14.0  \n",
       "1                  20.0  \n",
       "2                  15.0  \n",
       "3                  26.0  \n",
       "4                  13.0  \n",
       "...                 ...  \n",
       "32946              40.0  \n",
       "32947              16.0  \n",
       "32948              27.0  \n",
       "32949              20.0  \n",
       "32950               7.0  \n",
       "\n",
       "[32951 rows x 9 columns]"
      ]
     },
     "execution_count": 42,
     "metadata": {},
     "output_type": "execute_result"
    }
   ],
   "source": [
    "products_dataset"
   ]
  },
  {
   "cell_type": "code",
   "execution_count": 43,
   "id": "stock-representation",
   "metadata": {},
   "outputs": [],
   "source": [
    "products_dataset = wrangle_3(path_3)"
   ]
  },
  {
   "cell_type": "code",
   "execution_count": 44,
   "id": "naval-train",
   "metadata": {},
   "outputs": [
    {
     "data": {
      "text/html": [
       "<div>\n",
       "<style scoped>\n",
       "    .dataframe tbody tr th:only-of-type {\n",
       "        vertical-align: middle;\n",
       "    }\n",
       "\n",
       "    .dataframe tbody tr th {\n",
       "        vertical-align: top;\n",
       "    }\n",
       "\n",
       "    .dataframe thead th {\n",
       "        text-align: right;\n",
       "    }\n",
       "</style>\n",
       "<table border=\"1\" class=\"dataframe\">\n",
       "  <thead>\n",
       "    <tr style=\"text-align: right;\">\n",
       "      <th></th>\n",
       "      <th>product_category_name</th>\n",
       "    </tr>\n",
       "    <tr>\n",
       "      <th>product_id</th>\n",
       "      <th></th>\n",
       "    </tr>\n",
       "  </thead>\n",
       "  <tbody>\n",
       "    <tr>\n",
       "      <th>1e9e8ef04dbcff4541ed26657ea517e5</th>\n",
       "      <td>perfumaria</td>\n",
       "    </tr>\n",
       "    <tr>\n",
       "      <th>3aa071139cb16b67ca9e5dea641aaa2f</th>\n",
       "      <td>other</td>\n",
       "    </tr>\n",
       "    <tr>\n",
       "      <th>96bd76ec8810374ed1b65e291975717f</th>\n",
       "      <td>esporte_lazer</td>\n",
       "    </tr>\n",
       "    <tr>\n",
       "      <th>cef67bcfe19066a932b7673e239eb23d</th>\n",
       "      <td>bebes</td>\n",
       "    </tr>\n",
       "    <tr>\n",
       "      <th>9dc1a7de274444849c219cff195d0b71</th>\n",
       "      <td>utilidades_domesticas</td>\n",
       "    </tr>\n",
       "    <tr>\n",
       "      <th>...</th>\n",
       "      <td>...</td>\n",
       "    </tr>\n",
       "    <tr>\n",
       "      <th>a0b7d5a992ccda646f2d34e418fff5a0</th>\n",
       "      <td>moveis_decoracao</td>\n",
       "    </tr>\n",
       "    <tr>\n",
       "      <th>bf4538d88321d0fd4412a93c974510e6</th>\n",
       "      <td>other</td>\n",
       "    </tr>\n",
       "    <tr>\n",
       "      <th>9a7c6041fa9592d9d9ef6cfe62a71f8c</th>\n",
       "      <td>cama_mesa_banho</td>\n",
       "    </tr>\n",
       "    <tr>\n",
       "      <th>83808703fc0706a22e264b9d75f04a2e</th>\n",
       "      <td>informatica_acessorios</td>\n",
       "    </tr>\n",
       "    <tr>\n",
       "      <th>106392145fca363410d287a815be6de4</th>\n",
       "      <td>cama_mesa_banho</td>\n",
       "    </tr>\n",
       "  </tbody>\n",
       "</table>\n",
       "<p>32951 rows × 1 columns</p>\n",
       "</div>"
      ],
      "text/plain": [
       "                                   product_category_name\n",
       "product_id                                              \n",
       "1e9e8ef04dbcff4541ed26657ea517e5              perfumaria\n",
       "3aa071139cb16b67ca9e5dea641aaa2f                   other\n",
       "96bd76ec8810374ed1b65e291975717f           esporte_lazer\n",
       "cef67bcfe19066a932b7673e239eb23d                   bebes\n",
       "9dc1a7de274444849c219cff195d0b71   utilidades_domesticas\n",
       "...                                                  ...\n",
       "a0b7d5a992ccda646f2d34e418fff5a0        moveis_decoracao\n",
       "bf4538d88321d0fd4412a93c974510e6                   other\n",
       "9a7c6041fa9592d9d9ef6cfe62a71f8c         cama_mesa_banho\n",
       "83808703fc0706a22e264b9d75f04a2e  informatica_acessorios\n",
       "106392145fca363410d287a815be6de4         cama_mesa_banho\n",
       "\n",
       "[32951 rows x 1 columns]"
      ]
     },
     "execution_count": 44,
     "metadata": {},
     "output_type": "execute_result"
    }
   ],
   "source": [
    "products_dataset"
   ]
  },
  {
   "cell_type": "code",
   "execution_count": 45,
   "id": "broken-festival",
   "metadata": {},
   "outputs": [],
   "source": [
    "pd.set_option('display.max_columns' , 150)   \n",
    "pd.set_option('display.max_rows' , 150)  "
   ]
  },
  {
   "cell_type": "code",
   "execution_count": 46,
   "id": "stable-oxford",
   "metadata": {},
   "outputs": [
    {
     "data": {
      "text/plain": [
       "other                          26.466572\n",
       "cama_mesa_banho                 9.192437\n",
       "esporte_lazer                   8.700798\n",
       "moveis_decoracao                8.063488\n",
       "beleza_saude                    7.417074\n",
       "utilidades_domesticas           7.086280\n",
       "automotivo                      5.766138\n",
       "informatica_acessorios          4.974052\n",
       "brinquedos                      4.282116\n",
       "relogios_presentes              4.033262\n",
       "telefonia                       3.441474\n",
       "bebes                           2.788990\n",
       "perfumaria                      2.634214\n",
       "papelaria                       2.576553\n",
       "fashion_bolsas_e_acessorios     2.576553\n",
       "Name: product_category_name, dtype: float64"
      ]
     },
     "execution_count": 46,
     "metadata": {},
     "output_type": "execute_result"
    }
   ],
   "source": [
    "products_dataset['product_category_name'].value_counts(normalize=True) *100\n",
    "                                                      "
   ]
  },
  {
   "cell_type": "code",
   "execution_count": 47,
   "id": "engaging-cache",
   "metadata": {},
   "outputs": [],
   "source": [
    "# sellers_df = pd.read_csv('olist_sellers_dataset.csv') #not needed"
   ]
  },
  {
   "cell_type": "code",
   "execution_count": 48,
   "id": "temporal-moses",
   "metadata": {},
   "outputs": [],
   "source": [
    "#products_dataset.drop(columns=['product_name_lenght', 'product_description_lenght', 'product_photos_qty', 'product_weight_g', 'product_length_cm', 'product_height_cm', 'product_width_cm'],inplace=True)\n"
   ]
  },
  {
   "cell_type": "code",
   "execution_count": 49,
   "id": "blond-cisco",
   "metadata": {},
   "outputs": [
    {
     "data": {
      "text/html": [
       "<div>\n",
       "<style scoped>\n",
       "    .dataframe tbody tr th:only-of-type {\n",
       "        vertical-align: middle;\n",
       "    }\n",
       "\n",
       "    .dataframe tbody tr th {\n",
       "        vertical-align: top;\n",
       "    }\n",
       "\n",
       "    .dataframe thead th {\n",
       "        text-align: right;\n",
       "    }\n",
       "</style>\n",
       "<table border=\"1\" class=\"dataframe\">\n",
       "  <thead>\n",
       "    <tr style=\"text-align: right;\">\n",
       "      <th></th>\n",
       "      <th>product_category_name</th>\n",
       "    </tr>\n",
       "    <tr>\n",
       "      <th>product_id</th>\n",
       "      <th></th>\n",
       "    </tr>\n",
       "  </thead>\n",
       "  <tbody>\n",
       "    <tr>\n",
       "      <th>1e9e8ef04dbcff4541ed26657ea517e5</th>\n",
       "      <td>perfumaria</td>\n",
       "    </tr>\n",
       "    <tr>\n",
       "      <th>3aa071139cb16b67ca9e5dea641aaa2f</th>\n",
       "      <td>other</td>\n",
       "    </tr>\n",
       "    <tr>\n",
       "      <th>96bd76ec8810374ed1b65e291975717f</th>\n",
       "      <td>esporte_lazer</td>\n",
       "    </tr>\n",
       "    <tr>\n",
       "      <th>cef67bcfe19066a932b7673e239eb23d</th>\n",
       "      <td>bebes</td>\n",
       "    </tr>\n",
       "    <tr>\n",
       "      <th>9dc1a7de274444849c219cff195d0b71</th>\n",
       "      <td>utilidades_domesticas</td>\n",
       "    </tr>\n",
       "    <tr>\n",
       "      <th>...</th>\n",
       "      <td>...</td>\n",
       "    </tr>\n",
       "    <tr>\n",
       "      <th>a0b7d5a992ccda646f2d34e418fff5a0</th>\n",
       "      <td>moveis_decoracao</td>\n",
       "    </tr>\n",
       "    <tr>\n",
       "      <th>bf4538d88321d0fd4412a93c974510e6</th>\n",
       "      <td>other</td>\n",
       "    </tr>\n",
       "    <tr>\n",
       "      <th>9a7c6041fa9592d9d9ef6cfe62a71f8c</th>\n",
       "      <td>cama_mesa_banho</td>\n",
       "    </tr>\n",
       "    <tr>\n",
       "      <th>83808703fc0706a22e264b9d75f04a2e</th>\n",
       "      <td>informatica_acessorios</td>\n",
       "    </tr>\n",
       "    <tr>\n",
       "      <th>106392145fca363410d287a815be6de4</th>\n",
       "      <td>cama_mesa_banho</td>\n",
       "    </tr>\n",
       "  </tbody>\n",
       "</table>\n",
       "<p>32951 rows × 1 columns</p>\n",
       "</div>"
      ],
      "text/plain": [
       "                                   product_category_name\n",
       "product_id                                              \n",
       "1e9e8ef04dbcff4541ed26657ea517e5              perfumaria\n",
       "3aa071139cb16b67ca9e5dea641aaa2f                   other\n",
       "96bd76ec8810374ed1b65e291975717f           esporte_lazer\n",
       "cef67bcfe19066a932b7673e239eb23d                   bebes\n",
       "9dc1a7de274444849c219cff195d0b71   utilidades_domesticas\n",
       "...                                                  ...\n",
       "a0b7d5a992ccda646f2d34e418fff5a0        moveis_decoracao\n",
       "bf4538d88321d0fd4412a93c974510e6                   other\n",
       "9a7c6041fa9592d9d9ef6cfe62a71f8c         cama_mesa_banho\n",
       "83808703fc0706a22e264b9d75f04a2e  informatica_acessorios\n",
       "106392145fca363410d287a815be6de4         cama_mesa_banho\n",
       "\n",
       "[32951 rows x 1 columns]"
      ]
     },
     "execution_count": 49,
     "metadata": {},
     "output_type": "execute_result"
    }
   ],
   "source": [
    "products_dataset"
   ]
  },
  {
   "cell_type": "code",
   "execution_count": 50,
   "id": "terminal-immigration",
   "metadata": {},
   "outputs": [],
   "source": [
    "#top_14_categories = products_dataset['product_category_name'].value_counts()[:14].index"
   ]
  },
  {
   "cell_type": "code",
   "execution_count": 51,
   "id": "higher-transaction",
   "metadata": {},
   "outputs": [
    {
     "data": {
      "text/plain": [
       "Index(['cama_mesa_banho', 'esporte_lazer', 'moveis_decoracao', 'beleza_saude',\n",
       "       'utilidades_domesticas', 'automotivo', 'informatica_acessorios',\n",
       "       'brinquedos', 'relogios_presentes', 'telefonia', 'bebes', 'perfumaria',\n",
       "       'papelaria', 'fashion_bolsas_e_acessorios'],\n",
       "      dtype='object')"
      ]
     },
     "execution_count": 51,
     "metadata": {},
     "output_type": "execute_result"
    }
   ],
   "source": [
    "top_14_categories"
   ]
  },
  {
   "cell_type": "code",
   "execution_count": 52,
   "id": "occupied-grade",
   "metadata": {},
   "outputs": [],
   "source": [
    "# def other(top):\n",
    "#     if top in top_14_categories:\n",
    "#         return top\n",
    "#     else:\n",
    "#         return 'other'"
   ]
  },
  {
   "cell_type": "code",
   "execution_count": 53,
   "id": "native-motion",
   "metadata": {},
   "outputs": [],
   "source": [
    "#products_dataset['product_category_name'] = products_dataset['product_category_name'].apply(other)"
   ]
  },
  {
   "cell_type": "code",
   "execution_count": 54,
   "id": "flying-closing",
   "metadata": {},
   "outputs": [
    {
     "data": {
      "text/html": [
       "<div>\n",
       "<style scoped>\n",
       "    .dataframe tbody tr th:only-of-type {\n",
       "        vertical-align: middle;\n",
       "    }\n",
       "\n",
       "    .dataframe tbody tr th {\n",
       "        vertical-align: top;\n",
       "    }\n",
       "\n",
       "    .dataframe thead th {\n",
       "        text-align: right;\n",
       "    }\n",
       "</style>\n",
       "<table border=\"1\" class=\"dataframe\">\n",
       "  <thead>\n",
       "    <tr style=\"text-align: right;\">\n",
       "      <th></th>\n",
       "      <th>product_category_name</th>\n",
       "    </tr>\n",
       "    <tr>\n",
       "      <th>product_id</th>\n",
       "      <th></th>\n",
       "    </tr>\n",
       "  </thead>\n",
       "  <tbody>\n",
       "    <tr>\n",
       "      <th>1e9e8ef04dbcff4541ed26657ea517e5</th>\n",
       "      <td>perfumaria</td>\n",
       "    </tr>\n",
       "    <tr>\n",
       "      <th>3aa071139cb16b67ca9e5dea641aaa2f</th>\n",
       "      <td>other</td>\n",
       "    </tr>\n",
       "    <tr>\n",
       "      <th>96bd76ec8810374ed1b65e291975717f</th>\n",
       "      <td>esporte_lazer</td>\n",
       "    </tr>\n",
       "    <tr>\n",
       "      <th>cef67bcfe19066a932b7673e239eb23d</th>\n",
       "      <td>bebes</td>\n",
       "    </tr>\n",
       "    <tr>\n",
       "      <th>9dc1a7de274444849c219cff195d0b71</th>\n",
       "      <td>utilidades_domesticas</td>\n",
       "    </tr>\n",
       "    <tr>\n",
       "      <th>...</th>\n",
       "      <td>...</td>\n",
       "    </tr>\n",
       "    <tr>\n",
       "      <th>a0b7d5a992ccda646f2d34e418fff5a0</th>\n",
       "      <td>moveis_decoracao</td>\n",
       "    </tr>\n",
       "    <tr>\n",
       "      <th>bf4538d88321d0fd4412a93c974510e6</th>\n",
       "      <td>other</td>\n",
       "    </tr>\n",
       "    <tr>\n",
       "      <th>9a7c6041fa9592d9d9ef6cfe62a71f8c</th>\n",
       "      <td>cama_mesa_banho</td>\n",
       "    </tr>\n",
       "    <tr>\n",
       "      <th>83808703fc0706a22e264b9d75f04a2e</th>\n",
       "      <td>informatica_acessorios</td>\n",
       "    </tr>\n",
       "    <tr>\n",
       "      <th>106392145fca363410d287a815be6de4</th>\n",
       "      <td>cama_mesa_banho</td>\n",
       "    </tr>\n",
       "  </tbody>\n",
       "</table>\n",
       "<p>32951 rows × 1 columns</p>\n",
       "</div>"
      ],
      "text/plain": [
       "                                   product_category_name\n",
       "product_id                                              \n",
       "1e9e8ef04dbcff4541ed26657ea517e5              perfumaria\n",
       "3aa071139cb16b67ca9e5dea641aaa2f                   other\n",
       "96bd76ec8810374ed1b65e291975717f           esporte_lazer\n",
       "cef67bcfe19066a932b7673e239eb23d                   bebes\n",
       "9dc1a7de274444849c219cff195d0b71   utilidades_domesticas\n",
       "...                                                  ...\n",
       "a0b7d5a992ccda646f2d34e418fff5a0        moveis_decoracao\n",
       "bf4538d88321d0fd4412a93c974510e6                   other\n",
       "9a7c6041fa9592d9d9ef6cfe62a71f8c         cama_mesa_banho\n",
       "83808703fc0706a22e264b9d75f04a2e  informatica_acessorios\n",
       "106392145fca363410d287a815be6de4         cama_mesa_banho\n",
       "\n",
       "[32951 rows x 1 columns]"
      ]
     },
     "execution_count": 54,
     "metadata": {},
     "output_type": "execute_result"
    }
   ],
   "source": [
    "products_dataset"
   ]
  },
  {
   "cell_type": "code",
   "execution_count": 55,
   "id": "adjacent-pendant",
   "metadata": {},
   "outputs": [],
   "source": [
    "#Start Merging\n",
    "orders_and_payments_df = pd.merge(order_products_df, products_dataset, on='product_id', how='inner')"
   ]
  },
  {
   "cell_type": "code",
   "execution_count": 56,
   "id": "answering-popularity",
   "metadata": {},
   "outputs": [
    {
     "data": {
      "text/html": [
       "<div>\n",
       "<style scoped>\n",
       "    .dataframe tbody tr th:only-of-type {\n",
       "        vertical-align: middle;\n",
       "    }\n",
       "\n",
       "    .dataframe tbody tr th {\n",
       "        vertical-align: top;\n",
       "    }\n",
       "\n",
       "    .dataframe thead th {\n",
       "        text-align: right;\n",
       "    }\n",
       "</style>\n",
       "<table border=\"1\" class=\"dataframe\">\n",
       "  <thead>\n",
       "    <tr style=\"text-align: right;\">\n",
       "      <th></th>\n",
       "      <th>order_id</th>\n",
       "      <th>price</th>\n",
       "      <th>freight_value</th>\n",
       "      <th>product_category_name</th>\n",
       "    </tr>\n",
       "    <tr>\n",
       "      <th>product_id</th>\n",
       "      <th></th>\n",
       "      <th></th>\n",
       "      <th></th>\n",
       "      <th></th>\n",
       "    </tr>\n",
       "  </thead>\n",
       "  <tbody>\n",
       "    <tr>\n",
       "      <th>4244733e06e7ecb4970a6e2683c13e61</th>\n",
       "      <td>00010242fe8c5a6d1ba2dd792cb16214</td>\n",
       "      <td>58.9</td>\n",
       "      <td>13.29</td>\n",
       "      <td>other</td>\n",
       "    </tr>\n",
       "    <tr>\n",
       "      <th>4244733e06e7ecb4970a6e2683c13e61</th>\n",
       "      <td>130898c0987d1801452a8ed92a670612</td>\n",
       "      <td>55.9</td>\n",
       "      <td>17.96</td>\n",
       "      <td>other</td>\n",
       "    </tr>\n",
       "    <tr>\n",
       "      <th>4244733e06e7ecb4970a6e2683c13e61</th>\n",
       "      <td>532ed5e14e24ae1f0d735b91524b98b9</td>\n",
       "      <td>64.9</td>\n",
       "      <td>18.33</td>\n",
       "      <td>other</td>\n",
       "    </tr>\n",
       "    <tr>\n",
       "      <th>4244733e06e7ecb4970a6e2683c13e61</th>\n",
       "      <td>6f8c31653edb8c83e1a739408b5ff750</td>\n",
       "      <td>58.9</td>\n",
       "      <td>16.17</td>\n",
       "      <td>other</td>\n",
       "    </tr>\n",
       "    <tr>\n",
       "      <th>4244733e06e7ecb4970a6e2683c13e61</th>\n",
       "      <td>7d19f4ef4d04461989632411b7e588b9</td>\n",
       "      <td>58.9</td>\n",
       "      <td>13.29</td>\n",
       "      <td>other</td>\n",
       "    </tr>\n",
       "    <tr>\n",
       "      <th>...</th>\n",
       "      <td>...</td>\n",
       "      <td>...</td>\n",
       "      <td>...</td>\n",
       "      <td>...</td>\n",
       "    </tr>\n",
       "    <tr>\n",
       "      <th>4cc4d02efc8f249c13355147fb44e34d</th>\n",
       "      <td>ffebd80e3291e811c308365936897efd</td>\n",
       "      <td>129.9</td>\n",
       "      <td>51.20</td>\n",
       "      <td>other</td>\n",
       "    </tr>\n",
       "    <tr>\n",
       "      <th>b10ecf8e33aaaea419a9fa860ea80fb5</th>\n",
       "      <td>ffee31fb4b5e35c9123608015637c495</td>\n",
       "      <td>99.0</td>\n",
       "      <td>13.52</td>\n",
       "      <td>moveis_decoracao</td>\n",
       "    </tr>\n",
       "    <tr>\n",
       "      <th>dd469c03ad67e201bc2179ef077dcd48</th>\n",
       "      <td>fff7c4452f050315db1b3f24d9df5fcd</td>\n",
       "      <td>736.0</td>\n",
       "      <td>20.91</td>\n",
       "      <td>relogios_presentes</td>\n",
       "    </tr>\n",
       "    <tr>\n",
       "      <th>bbe7651fef80287a816ead73f065fc4b</th>\n",
       "      <td>fffa82886406ccf10c7b4e35c4ff2788</td>\n",
       "      <td>229.9</td>\n",
       "      <td>44.02</td>\n",
       "      <td>esporte_lazer</td>\n",
       "    </tr>\n",
       "    <tr>\n",
       "      <th>350688d9dc1e75ff97be326363655e01</th>\n",
       "      <td>fffe41c64501cc87c801fd61db3f6244</td>\n",
       "      <td>43.0</td>\n",
       "      <td>12.79</td>\n",
       "      <td>cama_mesa_banho</td>\n",
       "    </tr>\n",
       "  </tbody>\n",
       "</table>\n",
       "<p>112181 rows × 4 columns</p>\n",
       "</div>"
      ],
      "text/plain": [
       "                                                          order_id  price  \\\n",
       "product_id                                                                  \n",
       "4244733e06e7ecb4970a6e2683c13e61  00010242fe8c5a6d1ba2dd792cb16214   58.9   \n",
       "4244733e06e7ecb4970a6e2683c13e61  130898c0987d1801452a8ed92a670612   55.9   \n",
       "4244733e06e7ecb4970a6e2683c13e61  532ed5e14e24ae1f0d735b91524b98b9   64.9   \n",
       "4244733e06e7ecb4970a6e2683c13e61  6f8c31653edb8c83e1a739408b5ff750   58.9   \n",
       "4244733e06e7ecb4970a6e2683c13e61  7d19f4ef4d04461989632411b7e588b9   58.9   \n",
       "...                                                            ...    ...   \n",
       "4cc4d02efc8f249c13355147fb44e34d  ffebd80e3291e811c308365936897efd  129.9   \n",
       "b10ecf8e33aaaea419a9fa860ea80fb5  ffee31fb4b5e35c9123608015637c495   99.0   \n",
       "dd469c03ad67e201bc2179ef077dcd48  fff7c4452f050315db1b3f24d9df5fcd  736.0   \n",
       "bbe7651fef80287a816ead73f065fc4b  fffa82886406ccf10c7b4e35c4ff2788  229.9   \n",
       "350688d9dc1e75ff97be326363655e01  fffe41c64501cc87c801fd61db3f6244   43.0   \n",
       "\n",
       "                                  freight_value product_category_name  \n",
       "product_id                                                             \n",
       "4244733e06e7ecb4970a6e2683c13e61          13.29                 other  \n",
       "4244733e06e7ecb4970a6e2683c13e61          17.96                 other  \n",
       "4244733e06e7ecb4970a6e2683c13e61          18.33                 other  \n",
       "4244733e06e7ecb4970a6e2683c13e61          16.17                 other  \n",
       "4244733e06e7ecb4970a6e2683c13e61          13.29                 other  \n",
       "...                                         ...                   ...  \n",
       "4cc4d02efc8f249c13355147fb44e34d          51.20                 other  \n",
       "b10ecf8e33aaaea419a9fa860ea80fb5          13.52      moveis_decoracao  \n",
       "dd469c03ad67e201bc2179ef077dcd48          20.91    relogios_presentes  \n",
       "bbe7651fef80287a816ead73f065fc4b          44.02         esporte_lazer  \n",
       "350688d9dc1e75ff97be326363655e01          12.79       cama_mesa_banho  \n",
       "\n",
       "[112181 rows x 4 columns]"
      ]
     },
     "execution_count": 56,
     "metadata": {},
     "output_type": "execute_result"
    }
   ],
   "source": [
    "orders_and_payments_df"
   ]
  },
  {
   "cell_type": "code",
   "execution_count": 57,
   "id": "vulnerable-property",
   "metadata": {},
   "outputs": [],
   "source": [
    "final_form_df = pd.merge(orders_and_payments_df, order_payments_df, on='order_id', how='inner')"
   ]
  },
  {
   "cell_type": "code",
   "execution_count": 108,
   "id": "social-alignment",
   "metadata": {
    "scrolled": true
   },
   "outputs": [
    {
     "data": {
      "text/html": [
       "<div>\n",
       "<style scoped>\n",
       "    .dataframe tbody tr th:only-of-type {\n",
       "        vertical-align: middle;\n",
       "    }\n",
       "\n",
       "    .dataframe tbody tr th {\n",
       "        vertical-align: top;\n",
       "    }\n",
       "\n",
       "    .dataframe thead th {\n",
       "        text-align: right;\n",
       "    }\n",
       "</style>\n",
       "<table border=\"1\" class=\"dataframe\">\n",
       "  <thead>\n",
       "    <tr style=\"text-align: right;\">\n",
       "      <th></th>\n",
       "      <th>order_id</th>\n",
       "      <th>price</th>\n",
       "      <th>freight_value</th>\n",
       "      <th>product_category_name</th>\n",
       "      <th>payment_installments</th>\n",
       "      <th>payment_value</th>\n",
       "      <th>credit_card</th>\n",
       "    </tr>\n",
       "  </thead>\n",
       "  <tbody>\n",
       "    <tr>\n",
       "      <th>0</th>\n",
       "      <td>00010242fe8c5a6d1ba2dd792cb16214</td>\n",
       "      <td>58.9</td>\n",
       "      <td>13.29</td>\n",
       "      <td>other</td>\n",
       "      <td>2</td>\n",
       "      <td>72.19</td>\n",
       "      <td>0</td>\n",
       "    </tr>\n",
       "    <tr>\n",
       "      <th>1</th>\n",
       "      <td>130898c0987d1801452a8ed92a670612</td>\n",
       "      <td>55.9</td>\n",
       "      <td>17.96</td>\n",
       "      <td>other</td>\n",
       "      <td>1</td>\n",
       "      <td>73.86</td>\n",
       "      <td>1</td>\n",
       "    </tr>\n",
       "    <tr>\n",
       "      <th>2</th>\n",
       "      <td>532ed5e14e24ae1f0d735b91524b98b9</td>\n",
       "      <td>64.9</td>\n",
       "      <td>18.33</td>\n",
       "      <td>other</td>\n",
       "      <td>2</td>\n",
       "      <td>83.23</td>\n",
       "      <td>0</td>\n",
       "    </tr>\n",
       "    <tr>\n",
       "      <th>3</th>\n",
       "      <td>6f8c31653edb8c83e1a739408b5ff750</td>\n",
       "      <td>58.9</td>\n",
       "      <td>16.17</td>\n",
       "      <td>other</td>\n",
       "      <td>3</td>\n",
       "      <td>75.07</td>\n",
       "      <td>0</td>\n",
       "    </tr>\n",
       "    <tr>\n",
       "      <th>4</th>\n",
       "      <td>7d19f4ef4d04461989632411b7e588b9</td>\n",
       "      <td>58.9</td>\n",
       "      <td>13.29</td>\n",
       "      <td>other</td>\n",
       "      <td>4</td>\n",
       "      <td>72.19</td>\n",
       "      <td>0</td>\n",
       "    </tr>\n",
       "    <tr>\n",
       "      <th>...</th>\n",
       "      <td>...</td>\n",
       "      <td>...</td>\n",
       "      <td>...</td>\n",
       "      <td>...</td>\n",
       "      <td>...</td>\n",
       "      <td>...</td>\n",
       "      <td>...</td>\n",
       "    </tr>\n",
       "    <tr>\n",
       "      <th>115434</th>\n",
       "      <td>ffebd80e3291e811c308365936897efd</td>\n",
       "      <td>129.9</td>\n",
       "      <td>51.20</td>\n",
       "      <td>other</td>\n",
       "      <td>1</td>\n",
       "      <td>181.10</td>\n",
       "      <td>0</td>\n",
       "    </tr>\n",
       "    <tr>\n",
       "      <th>115435</th>\n",
       "      <td>ffee31fb4b5e35c9123608015637c495</td>\n",
       "      <td>99.0</td>\n",
       "      <td>13.52</td>\n",
       "      <td>moveis_decoracao</td>\n",
       "      <td>2</td>\n",
       "      <td>112.52</td>\n",
       "      <td>0</td>\n",
       "    </tr>\n",
       "    <tr>\n",
       "      <th>115436</th>\n",
       "      <td>fff7c4452f050315db1b3f24d9df5fcd</td>\n",
       "      <td>736.0</td>\n",
       "      <td>20.91</td>\n",
       "      <td>relogios_presentes</td>\n",
       "      <td>1</td>\n",
       "      <td>756.91</td>\n",
       "      <td>0</td>\n",
       "    </tr>\n",
       "    <tr>\n",
       "      <th>115437</th>\n",
       "      <td>fffa82886406ccf10c7b4e35c4ff2788</td>\n",
       "      <td>229.9</td>\n",
       "      <td>44.02</td>\n",
       "      <td>esporte_lazer</td>\n",
       "      <td>7</td>\n",
       "      <td>273.92</td>\n",
       "      <td>0</td>\n",
       "    </tr>\n",
       "    <tr>\n",
       "      <th>115438</th>\n",
       "      <td>fffe41c64501cc87c801fd61db3f6244</td>\n",
       "      <td>43.0</td>\n",
       "      <td>12.79</td>\n",
       "      <td>cama_mesa_banho</td>\n",
       "      <td>1</td>\n",
       "      <td>55.79</td>\n",
       "      <td>0</td>\n",
       "    </tr>\n",
       "  </tbody>\n",
       "</table>\n",
       "<p>115439 rows × 7 columns</p>\n",
       "</div>"
      ],
      "text/plain": [
       "                                order_id  price  freight_value  \\\n",
       "0       00010242fe8c5a6d1ba2dd792cb16214   58.9          13.29   \n",
       "1       130898c0987d1801452a8ed92a670612   55.9          17.96   \n",
       "2       532ed5e14e24ae1f0d735b91524b98b9   64.9          18.33   \n",
       "3       6f8c31653edb8c83e1a739408b5ff750   58.9          16.17   \n",
       "4       7d19f4ef4d04461989632411b7e588b9   58.9          13.29   \n",
       "...                                  ...    ...            ...   \n",
       "115434  ffebd80e3291e811c308365936897efd  129.9          51.20   \n",
       "115435  ffee31fb4b5e35c9123608015637c495   99.0          13.52   \n",
       "115436  fff7c4452f050315db1b3f24d9df5fcd  736.0          20.91   \n",
       "115437  fffa82886406ccf10c7b4e35c4ff2788  229.9          44.02   \n",
       "115438  fffe41c64501cc87c801fd61db3f6244   43.0          12.79   \n",
       "\n",
       "       product_category_name  payment_installments  payment_value  credit_card  \n",
       "0                      other                     2          72.19            0  \n",
       "1                      other                     1          73.86            1  \n",
       "2                      other                     2          83.23            0  \n",
       "3                      other                     3          75.07            0  \n",
       "4                      other                     4          72.19            0  \n",
       "...                      ...                   ...            ...          ...  \n",
       "115434                 other                     1         181.10            0  \n",
       "115435      moveis_decoracao                     2         112.52            0  \n",
       "115436    relogios_presentes                     1         756.91            0  \n",
       "115437         esporte_lazer                     7         273.92            0  \n",
       "115438       cama_mesa_banho                     1          55.79            0  \n",
       "\n",
       "[115439 rows x 7 columns]"
      ]
     },
     "execution_count": 108,
     "metadata": {},
     "output_type": "execute_result"
    }
   ],
   "source": [
    "final_form_df"
   ]
  },
  {
   "cell_type": "code",
   "execution_count": 107,
   "id": "turkish-idaho",
   "metadata": {},
   "outputs": [],
   "source": [
    "final_form_df['credit_card'] = (final_form_df['payment_type'] != 'credit_card').astype(int)\n",
    "final_form_df.drop(columns=['payment_type'], inplace=True)"
   ]
  },
  {
   "cell_type": "code",
   "execution_count": 109,
   "id": "alternative-championship",
   "metadata": {},
   "outputs": [
    {
     "data": {
      "text/plain": [
       "order_id                 0\n",
       "price                    0\n",
       "freight_value            0\n",
       "product_category_name    0\n",
       "payment_installments     0\n",
       "payment_value            0\n",
       "credit_card              0\n",
       "dtype: int64"
      ]
     },
     "execution_count": 109,
     "metadata": {},
     "output_type": "execute_result"
    }
   ],
   "source": [
    "final_form_df.isnull().sum()"
   ]
  },
  {
   "cell_type": "code",
   "execution_count": 113,
   "id": "widespread-daily",
   "metadata": {},
   "outputs": [],
   "source": [
    "#Splitting the data\n",
    "target = 'credit_card'\n",
    "X = final_form_df.drop(columns=target)\n",
    "y = final_form_df[target]\n",
    "from sklearn.model_selection import train_test_split"
   ]
  },
  {
   "cell_type": "code",
   "execution_count": 114,
   "id": "grand-fraction",
   "metadata": {},
   "outputs": [],
   "source": [
    "X_train, X_val, y_train, y_val = train_test_split(X, y, test_size=0.2, random_state=42)"
   ]
  },
  {
   "cell_type": "code",
   "execution_count": 115,
   "id": "civilian-simpson",
   "metadata": {},
   "outputs": [
    {
     "name": "stdout",
     "output_type": "stream",
     "text": [
      "0.7490335784127946\n"
     ]
    }
   ],
   "source": [
    "#Baseline\n",
    "print(y_train.value_counts(normalize=True).max())"
   ]
  },
  {
   "cell_type": "code",
   "execution_count": 116,
   "id": "ruled-lucas",
   "metadata": {},
   "outputs": [],
   "source": [
    "# RandomForestClassifier(n_estimators=60,\n",
    "#                            n_jobs=-1,\n",
    "#                            random_state=42))\n",
    "# #99 acc\n",
    "# #81 val acc"
   ]
  },
  {
   "cell_type": "code",
   "execution_count": 117,
   "id": "revolutionary-anchor",
   "metadata": {},
   "outputs": [],
   "source": [
    "#MakeModel\n",
    "model = make_pipeline(OrdinalEncoder(),\n",
    "                     SimpleImputer(strategy='mean'),\n",
    "                     RandomForestClassifier(n_estimators=50,\n",
    "                                           n_jobs=-1,\n",
    "                                           random_state=42))\n",
    "\n",
    "model.fit(X_train, y_train);"
   ]
  },
  {
   "cell_type": "code",
   "execution_count": 118,
   "id": "oriented-estate",
   "metadata": {},
   "outputs": [
    {
     "name": "stdout",
     "output_type": "stream",
     "text": [
      "Training Accuracy: 0.9999133739753766\n",
      "Validation Accuracy: 0.8173076923076923\n"
     ]
    }
   ],
   "source": [
    "print('Training Accuracy:', model.score(X_train, y_train))\n",
    "print('Validation Accuracy:', model.score(X_val, y_val))"
   ]
  },
  {
   "cell_type": "code",
   "execution_count": 120,
   "id": "regulated-express",
   "metadata": {},
   "outputs": [
    {
     "name": "stdout",
     "output_type": "stream",
     "text": [
      "              precision    recall  f1-score   support\n",
      "\n",
      "           o       0.88      0.88      0.88     17296\n",
      "           1       0.64      0.62      0.63      5792\n",
      "\n",
      "    accuracy                           0.82     23088\n",
      "   macro avg       0.76      0.75      0.76     23088\n",
      "weighted avg       0.82      0.82      0.82     23088\n",
      "\n"
     ]
    }
   ],
   "source": [
    "print(classification_report(y_val, \n",
    "                            model.predict(X_val),\n",
    "                            target_names=['o','1']))"
   ]
  },
  {
   "cell_type": "code",
   "execution_count": 122,
   "id": "parliamentary-target",
   "metadata": {},
   "outputs": [
    {
     "data": {
      "image/png": "[encoded data removed]",
      "text/plain": [
       "<Figure size 432x288 with 2 Axes>"
      ]
     },
     "metadata": {
      "needs_background": "light"
     },
     "output_type": "display_data"
    }
   ],
   "source": [
    "plot_confusion_matrix(\n",
    "    model,\n",
    "    X_val, \n",
    "    y_val,\n",
    "    values_format='.0f',\n",
    "    display_labels=['0','1']\n",
    ");"
   ]
  },
  {
   "cell_type": "code",
   "execution_count": null,
   "id": "original-hungarian",
   "metadata": {},
   "outputs": [],
   "source": []
  },
  {
   "cell_type": "code",
   "execution_count": 123,
   "id": "strong-times",
   "metadata": {},
   "outputs": [],
   "source": [
    "#10 most important features in my model\n",
    "importances = model.named_steps['randomforestclassifier'].feature_importances_\n",
    "features = model.named_steps['ordinalencoder'].get_feature_names()\n",
    "feat_imp = pd.Series(importances, index=features).sort_values()"
   ]
  },
  {
   "cell_type": "code",
   "execution_count": 124,
   "id": "alleged-location",
   "metadata": {},
   "outputs": [
    {
     "data": {
      "text/plain": [
       "Text(0.5, 0, 'Reduction in Gini Impurity')"
      ]
     },
     "execution_count": 124,
     "metadata": {},
     "output_type": "execute_result"
    },
    {
     "data": {
      "image/png": "[encoded data removed]",
      "text/plain": [
       "<Figure size 432x288 with 1 Axes>"
      ]
     },
     "metadata": {
      "needs_background": "light"
     },
     "output_type": "display_data"
    }
   ],
   "source": [
    "feat_imp.tail(20).plot(kind='barh')\n",
    "plt.xlabel('Reduction in Gini Impurity')"
   ]
  },
  {
   "cell_type": "code",
   "execution_count": 125,
   "id": "another-nomination",
   "metadata": {},
   "outputs": [],
   "source": [
    "#XGBoost\n",
    "from xgboost import XGBClassifier\n"
   ]
  },
  {
   "cell_type": "code",
   "execution_count": 126,
   "id": "invalid-stage",
   "metadata": {},
   "outputs": [],
   "source": [
    "model_xgb = make_pipeline(OrdinalEncoder(),\n",
    "                         XGBClassifier(n_estimators=100,\n",
    "                                      max_depth=10,\n",
    "                                      learning_rate=1e-3,\n",
    "                                      n_jobs=10))"
   ]
  },
  {
   "cell_type": "code",
   "execution_count": 127,
   "id": "differential-container",
   "metadata": {},
   "outputs": [
    {
     "name": "stderr",
     "output_type": "stream",
     "text": [
      "c:\\users\\junio\\.virtualenvs\\brazilian_ecommerce_site-hnvvf9cu\\lib\\site-packages\\xgboost\\sklearn.py:888: UserWarning: The use of label encoder in XGBClassifier is deprecated and will be removed in a future release. To remove this warning, do the following: 1) Pass option use_label_encoder=False when constructing XGBClassifier object; and 2) Encode your labels (y) as integers starting with 0, i.e. 0, 1, 2, ..., [num_class - 1].\n",
      "  warnings.warn(label_encoder_deprecation_msg, UserWarning)\n"
     ]
    },
    {
     "name": "stdout",
     "output_type": "stream",
     "text": [
      "[08:24:50] WARNING: C:/Users/Administrator/workspace/xgboost-win64_release_1.3.0/src/learner.cc:1061: Starting in XGBoost 1.3.0, the default evaluation metric used with the objective 'binary:logistic' was changed from 'error' to 'logloss'. Explicitly set eval_metric if you'd like to restore the old behavior.\n"
     ]
    },
    {
     "data": {
      "text/plain": [
       "Pipeline(steps=[('ordinalencoder',\n",
       "                 OrdinalEncoder(cols=['order_id', 'product_category_name'],\n",
       "                                mapping=[{'col': 'order_id',\n",
       "                                          'data_type': dtype('O'),\n",
       "                                          'mapping': af84f0b808d076913403b036e34b12fa        1\n",
       "4d6654ead4a57a151e3df6fb20052675        2\n",
       "637829c452a59980120d8015af137b78        3\n",
       "bfb1a4b760e9c724cd7e14be83b61b54        4\n",
       "c642d222512a5f6e0b07d52ae97e8e68        5\n",
       "                                    ...  \n",
       "5e605c248def72c23690c44126f8ecb...\n",
       "                               colsample_bytree=1, gamma=0, gpu_id=-1,\n",
       "                               importance_type='gain',\n",
       "                               interaction_constraints='', learning_rate=0.001,\n",
       "                               max_delta_step=0, max_depth=10,\n",
       "                               min_child_weight=1, missing=nan,\n",
       "                               monotone_constraints='()', n_estimators=100,\n",
       "                               n_jobs=10, num_parallel_tree=1, random_state=0,\n",
       "                               reg_alpha=0, reg_lambda=1, scale_pos_weight=1,\n",
       "                               subsample=1, tree_method='exact',\n",
       "                               validate_parameters=1, verbosity=None))])"
      ]
     },
     "execution_count": 127,
     "metadata": {},
     "output_type": "execute_result"
    }
   ],
   "source": [
    "model_xgb.fit(X_train, y_train)"
   ]
  },
  {
   "cell_type": "code",
   "execution_count": 128,
   "id": "suitable-stewart",
   "metadata": {},
   "outputs": [
    {
     "name": "stdout",
     "output_type": "stream",
     "text": [
      "training Accuracy 0.8162228887613562\n",
      "Validation Accuracy 0.8010221760221761\n"
     ]
    }
   ],
   "source": [
    "print('training Accuracy', model_xgb.score(X_train, y_train))\n",
    "print('Validation Accuracy', model_xgb.score(X_val, y_val))"
   ]
  },
  {
   "cell_type": "code",
   "execution_count": 134,
   "id": "becoming-estate",
   "metadata": {},
   "outputs": [],
   "source": [
    "importances_xgb = model_xgb.named_steps['xgbclassifier'].feature_importances_\n",
    "features_xgb = model_xgb.named_steps['ordinalencoder'].get_feature_names()\n",
    "feat_imp_xgb = pd.Series(importances_xgb, index=features_xgb).sort_values()"
   ]
  },
  {
   "cell_type": "code",
   "execution_count": 135,
   "id": "horizontal-likelihood",
   "metadata": {},
   "outputs": [
    {
     "data": {
      "text/plain": [
       "Text(0.5, 0, 'Reduction in Gini Impurity')"
      ]
     },
     "execution_count": 135,
     "metadata": {},
     "output_type": "execute_result"
    },
    {
     "data": {
      "image/png": "[encoded data removed]",
      "text/plain": [
       "<Figure size 432x288 with 1 Axes>"
      ]
     },
     "metadata": {
      "needs_background": "light"
     },
     "output_type": "display_data"
    }
   ],
   "source": [
    "feat_imp_xgb.tail(20).plot(kind='barh')\n",
    "plt.xlabel('Reduction in Gini Impurity')"
   ]
  },
  {
   "cell_type": "code",
   "execution_count": 132,
   "id": "universal-savings",
   "metadata": {},
   "outputs": [
    {
     "name": "stdout",
     "output_type": "stream",
     "text": [
      "              precision    recall  f1-score   support\n",
      "\n",
      "           0       0.85      0.89      0.87     17296\n",
      "           1       0.62      0.52      0.57      5792\n",
      "\n",
      "    accuracy                           0.80     23088\n",
      "   macro avg       0.74      0.71      0.72     23088\n",
      "weighted avg       0.79      0.80      0.80     23088\n",
      "\n"
     ]
    }
   ],
   "source": [
    "print(classification_report(y_val, \n",
    "                            model_xgb.predict(X_val),\n",
    "                            target_names=['0', '1',]))"
   ]
  },
  {
   "cell_type": "code",
   "execution_count": 136,
   "id": "outside-wildlife",
   "metadata": {},
   "outputs": [
    {
     "data": {
      "image/png": "[encoded data removed]",
      "text/plain": [
       "<Figure size 432x288 with 2 Axes>"
      ]
     },
     "metadata": {
      "needs_background": "light"
     },
     "output_type": "display_data"
    }
   ],
   "source": [
    "plot_confusion_matrix(\n",
    "    model_xgb,\n",
    "    X_val, \n",
    "    y_val,\n",
    "    values_format='.0f',\n",
    "    display_labels=['Without','With']\n",
    ");"
   ]
  },
  {
   "cell_type": "code",
   "execution_count": null,
   "id": "anticipated-amber",
   "metadata": {},
   "outputs": [],
   "source": []
  }
 ],
 "metadata": {
  "kernelspec": {
   "display_name": "Python 3",
   "language": "python",
   "name": "python3"
  },
  "language_info": {
   "codemirror_mode": {
    "name": "ipython",
    "version": 3
   },
   "file_extension": ".py",
   "mimetype": "text/x-python",
   "name": "python",
   "nbconvert_exporter": "python",
   "pygments_lexer": "ipython3",
   "version": "3.9.2"
  }
 },
 "nbformat": 4,
 "nbformat_minor": 5
}
